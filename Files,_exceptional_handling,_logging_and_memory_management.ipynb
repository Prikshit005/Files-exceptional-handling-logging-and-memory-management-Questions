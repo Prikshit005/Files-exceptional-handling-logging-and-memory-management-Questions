{
  "nbformat": 4,
  "nbformat_minor": 0,
  "metadata": {
    "colab": {
      "provenance": []
    },
    "kernelspec": {
      "name": "python3",
      "display_name": "Python 3"
    },
    "language_info": {
      "name": "python"
    }
  },
  "cells": [
    {
      "cell_type": "markdown",
      "source": [
        "#Files, exceptional handling,logging and memory management\n",
        "\n"
      ],
      "metadata": {
        "id": "X15hwNuHJfQs"
      }
    },
    {
      "cell_type": "markdown",
      "source": [
        "**1.What is the difference between interpreted and compiled languages?**\n",
        "- **An interpreted language** is a programming language that is executed line-by-line by an interpreter, rather than being fully compiled into machine code before it runs.\n",
        "\n",
        "    **Key points**\n",
        "     - Code is not pre-compiled into a standalone executable.\n",
        "\n",
        "  - The interpreter reads and runs the code directly, often making debugging easier.\n",
        "\n",
        "  - Slower execution compared to compiled languages, since the code is processed at runtime.\n",
        "\n",
        "  - Examples: Python, JavaScript, Ruby, PHP, MATLAB.\n",
        "-**A compiled language** is a programming language where the code is translated into machine code (binary) before it runs, using a compiler.\n",
        "\n",
        "  **Key points**:\n",
        "  - The entire program is converted into an executable file (e.g., .exe) before running.\n",
        "\n",
        " - Faster performance because the machine code runs directly on the CPU.\n",
        "\n",
        " - More difficult to debug sometimes, since errors are found at compile time.\n",
        "\n",
        " - Examples: C, C++, Rust, Go, Swift."
      ],
      "metadata": {
        "id": "5FjplpHxJu4F"
      }
    },
    {
      "cell_type": "markdown",
      "source": [
        "**2.What is exception handling in Python?**\n",
        "- Exception handling in Python is a mechanism that allows a program to deal with unexpected errors or unusual conditions during execution without crashing. It uses specific keywords like try, except, else, and finally to catch and manage exceptions. Code that might cause an error is placed inside a try block, and if an error occurs, it is caught by the corresponding except block where we can define how to handle it. The else block runs if no exception is raised, and the finally block executes no matter what, often used for cleanup actions like closing files or releasing resources. This approach helps make Python programs more robust and user-friendly by allowing them to respond gracefully to runtime errors such as dividing by zero, accessing missing files, or invalid input."
      ],
      "metadata": {
        "id": "UUmIQvZnMks2"
      }
    },
    {
      "cell_type": "markdown",
      "source": [
        "**3. What is the purpose of the finally block in exception handling?**\n",
        "- The purpose of the finally block in Python exception handling is to define a section of code that will always be executed, no matter what happens in the try and except blocks. Whether an exception is raised or not, and whether it is caught or not, the finally block ensures that certain important tasks are completed—typically things like closing files, releasing resources, or cleaning up temporary data. This makes it especially useful for maintaining code reliability and avoiding resource leaks. By placing critical cleanup operations in a finally block, developers can ensure that their program remains stable and consistent, even in the face of unexpected errors."
      ],
      "metadata": {
        "id": "Q3N5pKUGM6to"
      }
    },
    {
      "cell_type": "markdown",
      "source": [
        "**4. What is logging in Python?**\n",
        "- Logging in Python is a built-in way to track events, errors, and other information that happens while a program runs. Instead of using print() statements for debugging, the logging module provides a more flexible and powerful system to record messages with different levels of importance.Logging helps developers monitor, debug, and troubleshoot applications by saving useful info to the console or to log files, such as error messages, warnings, or system events."
      ],
      "metadata": {
        "id": "R65FzPvAuUny"
      }
    },
    {
      "cell_type": "markdown",
      "source": [
        "**5. What is the significance of the __del __ method in Python?**\n",
        "- The __del __ method in Python is a special method known as a destructor. It is called automatically when an object is about to be destroyed, typically when there are no more references to it. The purpose of __del __ is to allow developers to define cleanup behavior—like closing files, releasing memory, or disconnecting from a network—right before the object is garbage collected."
      ],
      "metadata": {
        "id": "xvh2fxgiunL_"
      }
    },
    {
      "cell_type": "markdown",
      "source": [
        "**6. What is the difference between import and from ... import in Python?**\n",
        "- The difference between import and from ... import in Python is mainly about how much of a module we bring into our program and how we access its contents. When we use import, we bring in the entire module, and we have to use the module name to access any of its functions or variables (e.g., math.sqrt(16)). On the other hand, from ... import allows us to import specific parts of a module so we can use them directly without the module name (e.g., just sqrt(16)). This makes the code shorter, but using import is often clearer and helps avoid name conflicts."
      ],
      "metadata": {
        "id": "6-Ftbplzu5dB"
      }
    },
    {
      "cell_type": "markdown",
      "source": [
        "**7. How can you handle multiple exceptions in Python?**\n",
        "- In Python, multiple exceptions can be handled by using either multiple except blocks or by grouping exceptions in a single except block. When we want to handle different exceptions with different responses, we can use separate except blocks for each exception type. For example, we might catch a ValueError with one block and a ZeroDivisionError with another. If we want to handle several exceptions in the same way, we can group them using a tuple inside a single except block. Additionally, we can use a generic except Exception as e block to catch any kind of exception, which is helpful for logging or displaying general error messages. This flexibility allows Python programs to respond to various error conditions gracefully, improving reliability and user experience."
      ],
      "metadata": {
        "id": "RcpdziHRvWt5"
      }
    },
    {
      "cell_type": "markdown",
      "source": [
        "**8. What is the purpose of the with statement when handling files in Python?**\n",
        "- The purpose of the with statement when handling files in Python is to simplify file management and ensure proper cleanup, such as automatically closing the file after it’s used. When we open a file using with, Python takes care of opening and closing it, even if an error occurs while the file is being processed. This helps prevent resource leaks and makes the code cleaner and more readable."
      ],
      "metadata": {
        "id": "S6DMoWOlvxUA"
      }
    },
    {
      "cell_type": "markdown",
      "source": [
        "**9. What is the difference between multithreading and multiprocessing?**\n",
        "- The difference between multithreading and multiprocessing in Python lies in how they handle tasks and utilize system resources.\n",
        " - **Multithreading** involves running multiple threads within a single process, allowing tasks to share the same memory space. It's useful for I/O-bound tasks like reading files or handling network operations, but due to Python's Global Interpreter Lock (GIL), it doesn't fully utilize multiple CPU cores for CPU-bound tasks.\n",
        " - **Multiprocessing**, on the other hand, creates separate processes, each with its own memory space, allowing true parallelism by using multiple CPU cores. This makes it ideal for CPU-bound tasks like data processing or mathematical computations. In summary, multithreading is better for tasks involving waiting (like file or network operations), while multiprocessing is better for tasks that require heavy computation."
      ],
      "metadata": {
        "id": "W1LdTxJKwE1v"
      }
    },
    {
      "cell_type": "markdown",
      "source": [
        "**10. What are the advantages of using logging in a program?**\n",
        "- Using logging in a program provides several advantages that help in maintaining, debugging, and monitoring software effectively:\n",
        "\n",
        "  - **Better Debugging**: Logging helps track the flow of the program, making it easier to identify where errors or unexpected behavior occur. It provides useful information like timestamps, error messages, and variables' values.\n",
        "\n",
        "  - **Monitoring**: It enables continuous monitoring of a program in production, allowing developers or system administrators to track system performance, usage patterns, and detect issues before they escalate.\n",
        "\n",
        "  - **Non-Intrusive**: Unlike print statements, logging doesn't require altering the program’s flow or user interface. It runs in the background, so it’s non-intrusive and doesn't affect the program's performance when used appropriately.\n",
        "\n",
        "  - **Customizable and Flexible**: we can define the logging level (e.g., DEBUG, INFO, WARNING, ERROR, CRITICAL) to capture different types of information and direct the logs to different outputs (console, files, remote servers).\n",
        "\n",
        "  - **Persistent Records**: Logs can be saved to files or databases, creating a persistent record of events that can be reviewed later, aiding in long-term maintenance and troubleshooting.\n",
        "\n",
        "  - **Easier Production Support**: In a production environment, logs provide a crucial way to monitor the system remotely without needing direct access to the program or the user’s input."
      ],
      "metadata": {
        "id": "_00gP7YxwjJH"
      }
    },
    {
      "cell_type": "markdown",
      "source": [
        "**11. What is memory management in Python?**\n",
        "- **Memory management** in Python involves automatic allocation and deallocation of memory. Python uses reference counting to track object usage, and when an object’s reference count drops to zero, its memory is freed. It also employs a garbage collector to clean up circular references. This automatic management helps prevent memory leaks, but developers can optimize memory usage by using efficient data structures and tools like weak references."
      ],
      "metadata": {
        "id": "Ibdp6FIZxEi3"
      }
    },
    {
      "cell_type": "markdown",
      "source": [
        "**12. What are the basic steps involved in exception handling in Python?**\n",
        "- The basic steps involved in exception handling in Python are:\n",
        "\n",
        " - **Try Block**: Place the code that might raise an exception inside a try block. This is where Python will attempt to execute the code.\n",
        " - **Except Block**: Define one or more except blocks to catch and handle specific exceptions that occur in the try block. We can catch specific exceptions or use a generic except for all exceptions.\n",
        " - **Else Block** (optional): If no exception is raised in the try block, the code in the else block will run. This is useful for code that should only execute if the try block completes successfully.\n",
        " - **Finally Block** (optional): Code inside the finally block will execute no matter what, whether an exception occurred or not. It's often used for cleanup actions like closing files or releasing resources.\n",
        "\n",
        "These steps ensure that exceptions are properly handled, and the program continues to run smoothly or cleans up resources as needed."
      ],
      "metadata": {
        "id": "EhOs1hW-xaKK"
      }
    },
    {
      "cell_type": "markdown",
      "source": [
        "**13. Why is memory management important in Python?**\n",
        "- **Memory management** is important in Python because it ensures that the program efficiently uses system resources, prevents memory leaks, and helps maintain optimal performance. Python’s automatic memory management system, which includes reference counting and a garbage collector, allows the program to reclaim memory that is no longer in use. Without proper memory management, unused objects would occupy memory unnecessarily, potentially leading to performance degradation or crashes, especially in long-running programs or applications handling large datasets. By managing memory effectively, Python ensures that resources are freed when no longer needed, helping the program run efficiently and reducing the likelihood of errors related to memory allocation."
      ],
      "metadata": {
        "id": "LP_IqUXkyICk"
      }
    },
    {
      "cell_type": "markdown",
      "source": [
        "**14. What is the role of try and except in exception handling?**\n",
        "- In exception handling, the try and except blocks in Python play crucial roles in managing errors during program execution:\n",
        "\n",
        " - **try block**: This is where we place the code that might raise an exception. Python attempts to execute the code inside the try block. If an error occurs, Python stops executing further code inside the try block and jumps to the except block to handle the error.\n",
        "\n",
        " - **except block**: If an exception is raised in the try block, the except block catches it. We can specify the type of exception we want to catch (e.g., ZeroDivisionError, ValueError) and define how to handle the error (e.g., print an error message or perform a specific action).\n",
        "\n",
        "The try block lets us attempt risky operations, while the except block allows us to handle errors gracefully, preventing the program from crashing and providing a way to manage exceptions appropriately."
      ],
      "metadata": {
        "id": "uKoadpxdybhW"
      }
    },
    {
      "cell_type": "markdown",
      "source": [
        "**15. How does Python's garbage collection system work?**\n",
        "- Python's garbage collection system is responsible for automatically managing memory by identifying and reclaiming memory that is no longer in use. It primarily works through reference counting and an additional garbage collector for detecting and cleaning up circular references.\n",
        " - **How it works**:\n",
        "\n",
        "   The garbage collector in Python is based on a generational approach:\n",
        "\n",
        "   **Generation 0**: Newly created objects are placed here. They are checked more frequently.\n",
        "\n",
        "   **Generation 1 and 2**: Objects that survive multiple garbage collection cycles are moved to older generations and are checked less often.\n",
        "\n",
        "   The gc module can be used to interact with Python’s garbage collection system, allowing developers to control when collection occurs or to manually trigger it."
      ],
      "metadata": {
        "id": "Ugcy1IvbzS0v"
      }
    },
    {
      "cell_type": "markdown",
      "source": [
        "**16. What is the purpose of the else block in exception handling?**\n",
        "- The else block in Python's exception handling is used to specify code that should run only if no exception was raised in the try block. It allows us to separate the normal execution flow from the error handling code, making the program cleaner and more readable.\n",
        "\n",
        " - Purpose of the else block:\n",
        "It runs after the try block completes successfully, meaning no exceptions were encountered.\n",
        "\n",
        "   It helps in organizing code by keeping the error-handling logic in the except block and the normal logic in the else block, making the code easier to understand."
      ],
      "metadata": {
        "id": "8Xp9I8Sj0Hu8"
      }
    },
    {
      "cell_type": "markdown",
      "source": [
        "**17. What are the common logging levels in Python?**\n",
        "- In Python, the logging module provides several logging levels that allow us to categorize the severity of messages logged by our program. These levels help filter log messages based on their importance. The common logging levels, in order of increasing severity, are:\n",
        "DEBUG: Detailed debugging information.\n",
        "\n",
        " INFO: General information about program flow.\n",
        "\n",
        "  WARNING: Indication of a potential issue.\n",
        "\n",
        " ERROR: An error has occurred, but the program can still run.\n",
        "\n",
        " CRITICAL: A very serious error that might stop the program."
      ],
      "metadata": {
        "id": "WTYW5MmV0ZUI"
      }
    },
    {
      "cell_type": "markdown",
      "source": [
        "**18. What is the difference between os.fork() and multiprocessing in Python?**\n",
        "- **Key Differences**:\n"
      ],
      "metadata": {
        "id": "S8otOsR60xo2"
      }
    },
    {
      "cell_type": "code",
      "source": [
        "import pandas as pd\n",
        "data = {\n",
        "    'Aspect': ['Platform', 'Level of Abstraction', 'Memory', 'Inter-process Communication', 'Ease of Use'],\n",
        "    'os.fork()': ['Unix-like systems only (Linux, macOS)', 'Low-level (system call)\t', 'Shared memory (copy-on-write)', 'Manual setup required (e.g., shared memory)', 'More complex, lower-level control'],\n",
        "    'multiprocessing': ['Cross-platform (Windows, Linux, macOS)', 'High-level (library)', 'Separate memory space for each process', 'Built-in support (Queue, Pipe, etc.)', 'Easier to use with high-level abstractions'],\n",
        "}\n",
        "\n",
        "df = pd.DataFrame(data)\n",
        "\n",
        "df"
      ],
      "metadata": {
        "colab": {
          "base_uri": "https://localhost:8080/",
          "height": 206
        },
        "id": "kHgEqtig3tiY",
        "outputId": "8872c357-2916-4aee-856d-3c5335b991a2"
      },
      "execution_count": 4,
      "outputs": [
        {
          "output_type": "execute_result",
          "data": {
            "text/plain": [
              "                        Aspect                                    os.fork()  \\\n",
              "0                     Platform        Unix-like systems only (Linux, macOS)   \n",
              "1         Level of Abstraction                    Low-level (system call)\\t   \n",
              "2                       Memory                Shared memory (copy-on-write)   \n",
              "3  Inter-process Communication  Manual setup required (e.g., shared memory)   \n",
              "4                  Ease of Use            More complex, lower-level control   \n",
              "\n",
              "                              multiprocessing  \n",
              "0      Cross-platform (Windows, Linux, macOS)  \n",
              "1                        High-level (library)  \n",
              "2      Separate memory space for each process  \n",
              "3        Built-in support (Queue, Pipe, etc.)  \n",
              "4  Easier to use with high-level abstractions  "
            ],
            "text/html": [
              "\n",
              "  <div id=\"df-08014b6e-e789-4d42-b19b-a8e5ca534880\" class=\"colab-df-container\">\n",
              "    <div>\n",
              "<style scoped>\n",
              "    .dataframe tbody tr th:only-of-type {\n",
              "        vertical-align: middle;\n",
              "    }\n",
              "\n",
              "    .dataframe tbody tr th {\n",
              "        vertical-align: top;\n",
              "    }\n",
              "\n",
              "    .dataframe thead th {\n",
              "        text-align: right;\n",
              "    }\n",
              "</style>\n",
              "<table border=\"1\" class=\"dataframe\">\n",
              "  <thead>\n",
              "    <tr style=\"text-align: right;\">\n",
              "      <th></th>\n",
              "      <th>Aspect</th>\n",
              "      <th>os.fork()</th>\n",
              "      <th>multiprocessing</th>\n",
              "    </tr>\n",
              "  </thead>\n",
              "  <tbody>\n",
              "    <tr>\n",
              "      <th>0</th>\n",
              "      <td>Platform</td>\n",
              "      <td>Unix-like systems only (Linux, macOS)</td>\n",
              "      <td>Cross-platform (Windows, Linux, macOS)</td>\n",
              "    </tr>\n",
              "    <tr>\n",
              "      <th>1</th>\n",
              "      <td>Level of Abstraction</td>\n",
              "      <td>Low-level (system call)\\t</td>\n",
              "      <td>High-level (library)</td>\n",
              "    </tr>\n",
              "    <tr>\n",
              "      <th>2</th>\n",
              "      <td>Memory</td>\n",
              "      <td>Shared memory (copy-on-write)</td>\n",
              "      <td>Separate memory space for each process</td>\n",
              "    </tr>\n",
              "    <tr>\n",
              "      <th>3</th>\n",
              "      <td>Inter-process Communication</td>\n",
              "      <td>Manual setup required (e.g., shared memory)</td>\n",
              "      <td>Built-in support (Queue, Pipe, etc.)</td>\n",
              "    </tr>\n",
              "    <tr>\n",
              "      <th>4</th>\n",
              "      <td>Ease of Use</td>\n",
              "      <td>More complex, lower-level control</td>\n",
              "      <td>Easier to use with high-level abstractions</td>\n",
              "    </tr>\n",
              "  </tbody>\n",
              "</table>\n",
              "</div>\n",
              "    <div class=\"colab-df-buttons\">\n",
              "\n",
              "  <div class=\"colab-df-container\">\n",
              "    <button class=\"colab-df-convert\" onclick=\"convertToInteractive('df-08014b6e-e789-4d42-b19b-a8e5ca534880')\"\n",
              "            title=\"Convert this dataframe to an interactive table.\"\n",
              "            style=\"display:none;\">\n",
              "\n",
              "  <svg xmlns=\"http://www.w3.org/2000/svg\" height=\"24px\" viewBox=\"0 -960 960 960\">\n",
              "    <path d=\"M120-120v-720h720v720H120Zm60-500h600v-160H180v160Zm220 220h160v-160H400v160Zm0 220h160v-160H400v160ZM180-400h160v-160H180v160Zm440 0h160v-160H620v160ZM180-180h160v-160H180v160Zm440 0h160v-160H620v160Z\"/>\n",
              "  </svg>\n",
              "    </button>\n",
              "\n",
              "  <style>\n",
              "    .colab-df-container {\n",
              "      display:flex;\n",
              "      gap: 12px;\n",
              "    }\n",
              "\n",
              "    .colab-df-convert {\n",
              "      background-color: #E8F0FE;\n",
              "      border: none;\n",
              "      border-radius: 50%;\n",
              "      cursor: pointer;\n",
              "      display: none;\n",
              "      fill: #1967D2;\n",
              "      height: 32px;\n",
              "      padding: 0 0 0 0;\n",
              "      width: 32px;\n",
              "    }\n",
              "\n",
              "    .colab-df-convert:hover {\n",
              "      background-color: #E2EBFA;\n",
              "      box-shadow: 0px 1px 2px rgba(60, 64, 67, 0.3), 0px 1px 3px 1px rgba(60, 64, 67, 0.15);\n",
              "      fill: #174EA6;\n",
              "    }\n",
              "\n",
              "    .colab-df-buttons div {\n",
              "      margin-bottom: 4px;\n",
              "    }\n",
              "\n",
              "    [theme=dark] .colab-df-convert {\n",
              "      background-color: #3B4455;\n",
              "      fill: #D2E3FC;\n",
              "    }\n",
              "\n",
              "    [theme=dark] .colab-df-convert:hover {\n",
              "      background-color: #434B5C;\n",
              "      box-shadow: 0px 1px 3px 1px rgba(0, 0, 0, 0.15);\n",
              "      filter: drop-shadow(0px 1px 2px rgba(0, 0, 0, 0.3));\n",
              "      fill: #FFFFFF;\n",
              "    }\n",
              "  </style>\n",
              "\n",
              "    <script>\n",
              "      const buttonEl =\n",
              "        document.querySelector('#df-08014b6e-e789-4d42-b19b-a8e5ca534880 button.colab-df-convert');\n",
              "      buttonEl.style.display =\n",
              "        google.colab.kernel.accessAllowed ? 'block' : 'none';\n",
              "\n",
              "      async function convertToInteractive(key) {\n",
              "        const element = document.querySelector('#df-08014b6e-e789-4d42-b19b-a8e5ca534880');\n",
              "        const dataTable =\n",
              "          await google.colab.kernel.invokeFunction('convertToInteractive',\n",
              "                                                    [key], {});\n",
              "        if (!dataTable) return;\n",
              "\n",
              "        const docLinkHtml = 'Like what you see? Visit the ' +\n",
              "          '<a target=\"_blank\" href=https://colab.research.google.com/notebooks/data_table.ipynb>data table notebook</a>'\n",
              "          + ' to learn more about interactive tables.';\n",
              "        element.innerHTML = '';\n",
              "        dataTable['output_type'] = 'display_data';\n",
              "        await google.colab.output.renderOutput(dataTable, element);\n",
              "        const docLink = document.createElement('div');\n",
              "        docLink.innerHTML = docLinkHtml;\n",
              "        element.appendChild(docLink);\n",
              "      }\n",
              "    </script>\n",
              "  </div>\n",
              "\n",
              "\n",
              "<div id=\"df-e733fa95-dfb1-46c1-9d72-9f993d7d3b2e\">\n",
              "  <button class=\"colab-df-quickchart\" onclick=\"quickchart('df-e733fa95-dfb1-46c1-9d72-9f993d7d3b2e')\"\n",
              "            title=\"Suggest charts\"\n",
              "            style=\"display:none;\">\n",
              "\n",
              "<svg xmlns=\"http://www.w3.org/2000/svg\" height=\"24px\"viewBox=\"0 0 24 24\"\n",
              "     width=\"24px\">\n",
              "    <g>\n",
              "        <path d=\"M19 3H5c-1.1 0-2 .9-2 2v14c0 1.1.9 2 2 2h14c1.1 0 2-.9 2-2V5c0-1.1-.9-2-2-2zM9 17H7v-7h2v7zm4 0h-2V7h2v10zm4 0h-2v-4h2v4z\"/>\n",
              "    </g>\n",
              "</svg>\n",
              "  </button>\n",
              "\n",
              "<style>\n",
              "  .colab-df-quickchart {\n",
              "      --bg-color: #E8F0FE;\n",
              "      --fill-color: #1967D2;\n",
              "      --hover-bg-color: #E2EBFA;\n",
              "      --hover-fill-color: #174EA6;\n",
              "      --disabled-fill-color: #AAA;\n",
              "      --disabled-bg-color: #DDD;\n",
              "  }\n",
              "\n",
              "  [theme=dark] .colab-df-quickchart {\n",
              "      --bg-color: #3B4455;\n",
              "      --fill-color: #D2E3FC;\n",
              "      --hover-bg-color: #434B5C;\n",
              "      --hover-fill-color: #FFFFFF;\n",
              "      --disabled-bg-color: #3B4455;\n",
              "      --disabled-fill-color: #666;\n",
              "  }\n",
              "\n",
              "  .colab-df-quickchart {\n",
              "    background-color: var(--bg-color);\n",
              "    border: none;\n",
              "    border-radius: 50%;\n",
              "    cursor: pointer;\n",
              "    display: none;\n",
              "    fill: var(--fill-color);\n",
              "    height: 32px;\n",
              "    padding: 0;\n",
              "    width: 32px;\n",
              "  }\n",
              "\n",
              "  .colab-df-quickchart:hover {\n",
              "    background-color: var(--hover-bg-color);\n",
              "    box-shadow: 0 1px 2px rgba(60, 64, 67, 0.3), 0 1px 3px 1px rgba(60, 64, 67, 0.15);\n",
              "    fill: var(--button-hover-fill-color);\n",
              "  }\n",
              "\n",
              "  .colab-df-quickchart-complete:disabled,\n",
              "  .colab-df-quickchart-complete:disabled:hover {\n",
              "    background-color: var(--disabled-bg-color);\n",
              "    fill: var(--disabled-fill-color);\n",
              "    box-shadow: none;\n",
              "  }\n",
              "\n",
              "  .colab-df-spinner {\n",
              "    border: 2px solid var(--fill-color);\n",
              "    border-color: transparent;\n",
              "    border-bottom-color: var(--fill-color);\n",
              "    animation:\n",
              "      spin 1s steps(1) infinite;\n",
              "  }\n",
              "\n",
              "  @keyframes spin {\n",
              "    0% {\n",
              "      border-color: transparent;\n",
              "      border-bottom-color: var(--fill-color);\n",
              "      border-left-color: var(--fill-color);\n",
              "    }\n",
              "    20% {\n",
              "      border-color: transparent;\n",
              "      border-left-color: var(--fill-color);\n",
              "      border-top-color: var(--fill-color);\n",
              "    }\n",
              "    30% {\n",
              "      border-color: transparent;\n",
              "      border-left-color: var(--fill-color);\n",
              "      border-top-color: var(--fill-color);\n",
              "      border-right-color: var(--fill-color);\n",
              "    }\n",
              "    40% {\n",
              "      border-color: transparent;\n",
              "      border-right-color: var(--fill-color);\n",
              "      border-top-color: var(--fill-color);\n",
              "    }\n",
              "    60% {\n",
              "      border-color: transparent;\n",
              "      border-right-color: var(--fill-color);\n",
              "    }\n",
              "    80% {\n",
              "      border-color: transparent;\n",
              "      border-right-color: var(--fill-color);\n",
              "      border-bottom-color: var(--fill-color);\n",
              "    }\n",
              "    90% {\n",
              "      border-color: transparent;\n",
              "      border-bottom-color: var(--fill-color);\n",
              "    }\n",
              "  }\n",
              "</style>\n",
              "\n",
              "  <script>\n",
              "    async function quickchart(key) {\n",
              "      const quickchartButtonEl =\n",
              "        document.querySelector('#' + key + ' button');\n",
              "      quickchartButtonEl.disabled = true;  // To prevent multiple clicks.\n",
              "      quickchartButtonEl.classList.add('colab-df-spinner');\n",
              "      try {\n",
              "        const charts = await google.colab.kernel.invokeFunction(\n",
              "            'suggestCharts', [key], {});\n",
              "      } catch (error) {\n",
              "        console.error('Error during call to suggestCharts:', error);\n",
              "      }\n",
              "      quickchartButtonEl.classList.remove('colab-df-spinner');\n",
              "      quickchartButtonEl.classList.add('colab-df-quickchart-complete');\n",
              "    }\n",
              "    (() => {\n",
              "      let quickchartButtonEl =\n",
              "        document.querySelector('#df-e733fa95-dfb1-46c1-9d72-9f993d7d3b2e button');\n",
              "      quickchartButtonEl.style.display =\n",
              "        google.colab.kernel.accessAllowed ? 'block' : 'none';\n",
              "    })();\n",
              "  </script>\n",
              "</div>\n",
              "\n",
              "  <div id=\"id_0ee68097-a2da-48da-9c53-bfb53d17e5e2\">\n",
              "    <style>\n",
              "      .colab-df-generate {\n",
              "        background-color: #E8F0FE;\n",
              "        border: none;\n",
              "        border-radius: 50%;\n",
              "        cursor: pointer;\n",
              "        display: none;\n",
              "        fill: #1967D2;\n",
              "        height: 32px;\n",
              "        padding: 0 0 0 0;\n",
              "        width: 32px;\n",
              "      }\n",
              "\n",
              "      .colab-df-generate:hover {\n",
              "        background-color: #E2EBFA;\n",
              "        box-shadow: 0px 1px 2px rgba(60, 64, 67, 0.3), 0px 1px 3px 1px rgba(60, 64, 67, 0.15);\n",
              "        fill: #174EA6;\n",
              "      }\n",
              "\n",
              "      [theme=dark] .colab-df-generate {\n",
              "        background-color: #3B4455;\n",
              "        fill: #D2E3FC;\n",
              "      }\n",
              "\n",
              "      [theme=dark] .colab-df-generate:hover {\n",
              "        background-color: #434B5C;\n",
              "        box-shadow: 0px 1px 3px 1px rgba(0, 0, 0, 0.15);\n",
              "        filter: drop-shadow(0px 1px 2px rgba(0, 0, 0, 0.3));\n",
              "        fill: #FFFFFF;\n",
              "      }\n",
              "    </style>\n",
              "    <button class=\"colab-df-generate\" onclick=\"generateWithVariable('df')\"\n",
              "            title=\"Generate code using this dataframe.\"\n",
              "            style=\"display:none;\">\n",
              "\n",
              "  <svg xmlns=\"http://www.w3.org/2000/svg\" height=\"24px\"viewBox=\"0 0 24 24\"\n",
              "       width=\"24px\">\n",
              "    <path d=\"M7,19H8.4L18.45,9,17,7.55,7,17.6ZM5,21V16.75L18.45,3.32a2,2,0,0,1,2.83,0l1.4,1.43a1.91,1.91,0,0,1,.58,1.4,1.91,1.91,0,0,1-.58,1.4L9.25,21ZM18.45,9,17,7.55Zm-12,3A5.31,5.31,0,0,0,4.9,8.1,5.31,5.31,0,0,0,1,6.5,5.31,5.31,0,0,0,4.9,4.9,5.31,5.31,0,0,0,6.5,1,5.31,5.31,0,0,0,8.1,4.9,5.31,5.31,0,0,0,12,6.5,5.46,5.46,0,0,0,6.5,12Z\"/>\n",
              "  </svg>\n",
              "    </button>\n",
              "    <script>\n",
              "      (() => {\n",
              "      const buttonEl =\n",
              "        document.querySelector('#id_0ee68097-a2da-48da-9c53-bfb53d17e5e2 button.colab-df-generate');\n",
              "      buttonEl.style.display =\n",
              "        google.colab.kernel.accessAllowed ? 'block' : 'none';\n",
              "\n",
              "      buttonEl.onclick = () => {\n",
              "        google.colab.notebook.generateWithVariable('df');\n",
              "      }\n",
              "      })();\n",
              "    </script>\n",
              "  </div>\n",
              "\n",
              "    </div>\n",
              "  </div>\n"
            ],
            "application/vnd.google.colaboratory.intrinsic+json": {
              "type": "dataframe",
              "variable_name": "df",
              "summary": "{\n  \"name\": \"df\",\n  \"rows\": 5,\n  \"fields\": [\n    {\n      \"column\": \"Aspect\",\n      \"properties\": {\n        \"dtype\": \"string\",\n        \"num_unique_values\": 5,\n        \"samples\": [\n          \"Level of Abstraction\",\n          \"Ease of Use\",\n          \"Memory\"\n        ],\n        \"semantic_type\": \"\",\n        \"description\": \"\"\n      }\n    },\n    {\n      \"column\": \"os.fork()\",\n      \"properties\": {\n        \"dtype\": \"string\",\n        \"num_unique_values\": 5,\n        \"samples\": [\n          \"Low-level (system call)\\t\",\n          \"More complex, lower-level control\",\n          \"Shared memory (copy-on-write)\"\n        ],\n        \"semantic_type\": \"\",\n        \"description\": \"\"\n      }\n    },\n    {\n      \"column\": \"multiprocessing\",\n      \"properties\": {\n        \"dtype\": \"string\",\n        \"num_unique_values\": 5,\n        \"samples\": [\n          \"High-level (library)\",\n          \"Easier to use with high-level abstractions\",\n          \"Separate memory space for each process\"\n        ],\n        \"semantic_type\": \"\",\n        \"description\": \"\"\n      }\n    }\n  ]\n}"
            }
          },
          "metadata": {},
          "execution_count": 4
        }
      ]
    },
    {
      "cell_type": "markdown",
      "source": [
        "**19. What is the importance of closing a file in Python?**\n",
        "- Closing a file in Python is important for several reasons:\n",
        "\n",
        "1. **Releasing System Resources**:\n",
        "When we open a file, the operating system allocates system resources (like memory and file handles) to manage the file. If we don't close the file, these resources may not be released properly, potentially leading to resource leaks and system instability, especially in programs that open and close many files.\n",
        "\n",
        "2. **Ensuring Data is Written**:\n",
        "When writing to a file, the data is often buffered in memory before being written to disk. If the file isn't closed, the buffer might not be flushed, meaning the data may not be written to the file correctly. Closing the file ensures that all data is properly saved and committed to the disk.\n",
        "\n",
        "3. **Preventing File Corruption**:\n",
        "If a file is left open, especially while modifying it, there is a risk of file corruption. Closing the file properly ensures that all operations on the file are finished and that the file's integrity is maintained.\n",
        "\n",
        "4. **Allowing Other Programs to Access the File**:\n",
        "In some cases, if a file is left open, other programs or processes may not be able to access it. Closing the file ensures that the file handle is released, allowing other applications to read from or write to the file as needed."
      ],
      "metadata": {
        "id": "_Mxys_RC4nXF"
      }
    },
    {
      "cell_type": "markdown",
      "source": [
        "**20. What is the difference between file.read() and file.readline() in Python?**\n",
        "- **1. file.read()**:\n",
        "  - Purpose: Reads the entire content of the file at once.\n",
        "\n",
        "  - Return: It returns the entire content as a single string.\n",
        "\n",
        "  - Use Case: Suitable when we want to read the whole file at once, especially if it's not too large.\n",
        "\n",
        " - Behavior: It will start from the beginning of the file and read until the end. If the file is very large, this can consume a lot of memory.\n",
        "\n",
        " **2. file.readline()**:\n",
        " - Purpose: Reads one line at a time from the file.\n",
        "\n",
        " - Return: It returns a string containing the next line from the file, including the newline character (\\n) at the end of the line (unless it's the last line).\n",
        "\n",
        " - Use Case: Suitable when we need to read the file line by line, for example, processing log files or large files without loading them fully into memory."
      ],
      "metadata": {
        "id": "G4wBu6XB5APi"
      }
    },
    {
      "cell_type": "markdown",
      "source": [
        "**21. What is the logging module in Python used for?**\n",
        "- The logging module in Python is used for tracking events that occur while a program is running. It provides a flexible framework for logging messages from our code, which can be very helpful for debugging, monitoring, and troubleshooting applications.\n",
        " - **Key Uses of the Logging Module**:\n",
        "\n",
        "   - Debugging and Error Tracking:\n",
        "\n",
        "   - Monitoring:\n",
        "\n",
        "   - Log Level Categorization:\n",
        "\n",
        "   - Persistent Record Keeping:\n",
        "\n",
        "   - Configuration Flexibility:"
      ],
      "metadata": {
        "id": "CFj841eU51o8"
      }
    },
    {
      "cell_type": "markdown",
      "source": [
        "**22. What is the os module in Python used for in file handling?**\n",
        "- **The os module** in Python is used for interacting with the operating system and plays a crucial role in file handling. It provides a range of functions to perform operations like creating, deleting, renaming, and moving files and directories. With the os module, we can also check if a file or directory exists, retrieve file sizes, and access file metadata such as modification times. It includes tools for navigating the file system, such as changing the current working directory or listing all files in a folder. Additionally, the os.path submodule helps in manipulating file paths in a way that works across different operating systems. Overall, the os module offers powerful and flexible tools to manage files and directories efficiently in Python programs."
      ],
      "metadata": {
        "id": "qk3HKRui6kpl"
      }
    },
    {
      "cell_type": "markdown",
      "source": [
        "**23. What are the challenges associated with memory management in Python?**\n",
        "- Memory management in Python is largely automatic, but it still comes with several challenges that developers should be aware of to write efficient and error-free programs. Some of the key challenges include:\n",
        "\n",
        "1. **Circular References**:\n",
        "Python uses reference counting to manage memory, but it struggles with circular references—when two or more objects reference each other.\n",
        "These objects won't be collected automatically by reference counting alone, so Python relies on the garbage collector to detect and clean them up.\n",
        "If not managed properly, circular references can lead to memory leaks.\n",
        "\n",
        "2. **Memory Leaks**:\n",
        "Even though Python manages memory automatically, poor coding practices (like holding unnecessary references to large objects or using global variables carelessly) can cause memory leaks.\n",
        "This results in unused memory not being released, which can slow down the program or crash it if memory runs out.\n",
        "\n",
        "3. **High Memory Usage**:\n",
        "Python's dynamic nature and high-level features can lead to higher memory consumption compared to lower-level languages like C or C++.\n",
        "Objects in Python, especially complex data structures or large lists and dictionaries, can take up more memory than expected.\n",
        "\n",
        "4. **Garbage Collection Overhead**:\n",
        "While the garbage collector helps manage memory, it can introduce performance overhead, especially when handling many objects or complex reference patterns.\n",
        "Developers may need to manually tune or trigger garbage collection using the gc module for better performance in some cases.\n",
        "\n",
        "5. **Fragmentation**:\n",
        "Memory fragmentation can occur over time when many small objects are created and destroyed, leading to inefficient memory use and performance degradation.\n",
        "\n",
        "6. **Not Releasing External Resources**:\n",
        "Memory management only applies to memory allocated by Python. If a program opens files, network connections, or other external resources, those need to be closed properly using techniques like with statements or manual cleanup."
      ],
      "metadata": {
        "id": "yWcNe66S64Gj"
      }
    },
    {
      "cell_type": "markdown",
      "source": [
        "**24. How do you raise an exception manually in Python?**\n",
        "- In Python, we can raise an exception manually using the raise keyword. This is useful when we want to trigger an error in our program intentionally, for example, when invalid input is given or a certain condition is not met.\n",
        "Built-in exceptions like TypeError, ValueError, ZeroDivisionError, etc.\n",
        "Custom exceptions by creating our own exception class."
      ],
      "metadata": {
        "id": "FQaw90IQ7Yu0"
      }
    },
    {
      "cell_type": "markdown",
      "source": [
        "**25. Why is it important to use multithreading in certain applications?**\n",
        "- Multithreading is important in certain applications because it allows a program to perform multiple tasks at the same time, leading to better efficiency, responsiveness, and resource utilization, especially for I/O-bound operations.\n",
        "Key reasons multithreading is important:\n",
        "  - Improved Responsiveness\n",
        "\n",
        "  - Faster Execution of I/O-bound Tasks\n",
        "\n",
        "  - Better Resource Utilization\n",
        "\n",
        "  - Simplified Program Structure for Concurrent Tasks\n",
        "\n",
        "  - Parallelism on I/O-bound Operations\n"
      ],
      "metadata": {
        "id": "g-lICKML7v-9"
      }
    },
    {
      "cell_type": "markdown",
      "source": [
        "#Practical Questions"
      ],
      "metadata": {
        "id": "kRNrUpgp8jQ7"
      }
    },
    {
      "cell_type": "markdown",
      "source": [
        " **1.How can you open a file for writing in Python and write a string to it?**"
      ],
      "metadata": {
        "id": "dqTu8s2j80m8"
      }
    },
    {
      "cell_type": "code",
      "source": [
        "# Open the file in write mode\n",
        "with open(\"example.txt\", \"w\") as file:\n",
        "    # Write a string to the file\n",
        "    file.write(\"Hello, this is a test string!\")\n"
      ],
      "metadata": {
        "id": "tTQ5LKnz88PZ"
      },
      "execution_count": 5,
      "outputs": []
    },
    {
      "cell_type": "markdown",
      "source": [
        "**2. Write a Python program to read the contents of a file and print each line.**"
      ],
      "metadata": {
        "id": "xvXjxxA19dFu"
      }
    },
    {
      "cell_type": "code",
      "source": [
        "# Open the file in read mode\n",
        "with open(\"example.txt\", \"r\") as file:\n",
        "    # Loop through each line in the file\n",
        "    for line in file:\n",
        "        # Print the line (line already contains a newline character)\n",
        "        print(line, end='')\n"
      ],
      "metadata": {
        "colab": {
          "base_uri": "https://localhost:8080/"
        },
        "id": "A-sAvR_39i3g",
        "outputId": "3818eded-d4b8-4c4d-bfb5-5e3652af5dfc"
      },
      "execution_count": 6,
      "outputs": [
        {
          "output_type": "stream",
          "name": "stdout",
          "text": [
            "Hello, this is a test string!"
          ]
        }
      ]
    },
    {
      "cell_type": "markdown",
      "source": [
        "**3. How would you handle a case where the file doesn't exist while trying to open it for reading.**"
      ],
      "metadata": {
        "id": "2bDMfl7O9pof"
      }
    },
    {
      "cell_type": "code",
      "source": [
        "filename = \"example.txt\"\n",
        "\n",
        "try:\n",
        "    with open(filename, \"r\") as file:\n",
        "        for line in file:\n",
        "            print(line, end='')\n",
        "except FileNotFoundError:\n",
        "    print(f\"Error: The file '{filename}' was not found.\")\n"
      ],
      "metadata": {
        "colab": {
          "base_uri": "https://localhost:8080/"
        },
        "id": "XHEQ7j9691uq",
        "outputId": "53dc5514-5238-422a-fbb0-2a56b7d70993"
      },
      "execution_count": 7,
      "outputs": [
        {
          "output_type": "stream",
          "name": "stdout",
          "text": [
            "Hello, this is a test string!"
          ]
        }
      ]
    },
    {
      "cell_type": "markdown",
      "source": [
        "**4.  Write a Python script that reads from one file and writes its content to another file.**"
      ],
      "metadata": {
        "id": "ATxUXwB4949E"
      }
    },
    {
      "cell_type": "code",
      "source": [
        "# File names\n",
        "source_file = \"source.txt\"\n",
        "destination_file = \"destination.txt\"\n",
        "\n",
        "try:\n",
        "    # Open the source file in read mode\n",
        "    with open(source_file, \"r\") as src:\n",
        "        # Read the content\n",
        "        content = src.read()\n",
        "\n",
        "    # Open the destination file in write mode\n",
        "    with open(destination_file, \"w\") as dest:\n",
        "        # Write the content to the new file\n",
        "        dest.write(content)\n",
        "\n",
        "    print(f\"Content copied from '{source_file}' to '{destination_file}' successfully!\")\n",
        "\n",
        "except FileNotFoundError:\n",
        "    print(f\"Error: The file '{source_file}' was not found.\")\n",
        "except Exception as e:\n",
        "    print(f\"An unexpected error occurred: {e}\")\n"
      ],
      "metadata": {
        "colab": {
          "base_uri": "https://localhost:8080/"
        },
        "id": "5_gHR3xz-A5T",
        "outputId": "09d083ca-3fa7-484a-f8ef-8aa71f3a4816"
      },
      "execution_count": 8,
      "outputs": [
        {
          "output_type": "stream",
          "name": "stdout",
          "text": [
            "Error: The file 'source.txt' was not found.\n"
          ]
        }
      ]
    },
    {
      "cell_type": "markdown",
      "source": [
        "**5. How would you catch and handle division by zero error in Python?**"
      ],
      "metadata": {
        "id": "3URs9Ey0-Rwa"
      }
    },
    {
      "cell_type": "code",
      "source": [
        "try:\n",
        "    num = 10\n",
        "    divisor = 0\n",
        "    result = num / divisor\n",
        "    print(\"Result:\", result)\n",
        "except ZeroDivisionError:\n",
        "    print(\"Error: Division by zero is not allowed.\")\n"
      ],
      "metadata": {
        "colab": {
          "base_uri": "https://localhost:8080/"
        },
        "id": "FvE3CO1N-WiJ",
        "outputId": "177d7bce-8945-424b-af77-5440f0b90095"
      },
      "execution_count": 9,
      "outputs": [
        {
          "output_type": "stream",
          "name": "stdout",
          "text": [
            "Error: Division by zero is not allowed.\n"
          ]
        }
      ]
    },
    {
      "cell_type": "code",
      "source": [
        "try:\n",
        "    num = 10\n",
        "    divisor = int(input(\"Enter a divisor: \"))\n",
        "    result = num / divisor\n",
        "    print(\"Result:\", result)\n",
        "except ZeroDivisionError:\n",
        "    print(\"Oops! we can't divide by zero. Try a different number.\")\n"
      ],
      "metadata": {
        "colab": {
          "base_uri": "https://localhost:8080/"
        },
        "id": "dptvbYqe-rYT",
        "outputId": "b0280c24-54ed-43d1-917a-a76cd0290b35"
      },
      "execution_count": 10,
      "outputs": [
        {
          "output_type": "stream",
          "name": "stdout",
          "text": [
            "Enter a divisor: 5\n",
            "Result: 2.0\n"
          ]
        }
      ]
    },
    {
      "cell_type": "markdown",
      "source": [
        "**6. Write a Python program that logs an error message to a log file when a division by zero exception occurs.**"
      ],
      "metadata": {
        "id": "3MHiQ2A--xG3"
      }
    },
    {
      "cell_type": "code",
      "source": [
        "import logging\n",
        "\n",
        "# Configure logging to write to a file\n",
        "logging.basicConfig(\n",
        "    filename='error_log.txt',\n",
        "    level=logging.ERROR,\n",
        "    format='%(asctime)s - %(levelname)s - %(message)s'\n",
        ")\n",
        "\n",
        "# Example division operation\n",
        "try:\n",
        "    num = 10\n",
        "    divisor = 0\n",
        "    result = num / divisor\n",
        "    print(\"Result:\", result)\n",
        "\n",
        "except ZeroDivisionError as e:\n",
        "    logging.error(\"Division by zero error occurred: %s\", e)\n",
        "    print(\"An error occurred. Check the log file for details.\")\n"
      ],
      "metadata": {
        "colab": {
          "base_uri": "https://localhost:8080/"
        },
        "id": "Mpvz5p5--1-e",
        "outputId": "594f5a1d-49cf-46d2-902e-0d5fecdf3397"
      },
      "execution_count": 11,
      "outputs": [
        {
          "output_type": "stream",
          "name": "stderr",
          "text": [
            "ERROR:root:Division by zero error occurred: division by zero\n"
          ]
        },
        {
          "output_type": "stream",
          "name": "stdout",
          "text": [
            "An error occurred. Check the log file for details.\n"
          ]
        }
      ]
    },
    {
      "cell_type": "markdown",
      "source": [
        "**7. How do you log information at different levels (INFO, ERROR, WARNING) in Python using the logging module.**"
      ],
      "metadata": {
        "id": "2OzMrXvd_rmc"
      }
    },
    {
      "cell_type": "code",
      "source": [
        "import logging\n",
        "\n",
        "# Configure logging to write to a file with a specific format\n",
        "logging.basicConfig(\n",
        "    filename='app_log.txt',\n",
        "    level=logging.DEBUG,  # This means all messages from DEBUG and higher will be logged\n",
        "    format='%(asctime)s - %(levelname)s - %(message)s'\n",
        ")\n",
        "\n",
        "# Log messages at different levels\n",
        "logging.debug(\"This is a debug message.\")\n",
        "logging.info(\"This is an info message.\")\n",
        "logging.warning(\"This is a warning message.\")\n",
        "logging.error(\"This is an error message.\")\n",
        "logging.critical(\"This is a critical message.\")\n"
      ],
      "metadata": {
        "colab": {
          "base_uri": "https://localhost:8080/"
        },
        "id": "M959H6_5_4lZ",
        "outputId": "c1cbc636-12f2-4ab5-f814-0974bec7ce81"
      },
      "execution_count": 12,
      "outputs": [
        {
          "output_type": "stream",
          "name": "stderr",
          "text": [
            "WARNING:root:This is a warning message.\n",
            "ERROR:root:This is an error message.\n",
            "CRITICAL:root:This is a critical message.\n"
          ]
        }
      ]
    },
    {
      "cell_type": "markdown",
      "source": [
        "**8. Write a program to handle a file opening error using exception handling.**"
      ],
      "metadata": {
        "id": "7HsYyg1qAJvi"
      }
    },
    {
      "cell_type": "code",
      "source": [
        "try:\n",
        "    # Attempt to open a file\n",
        "    with open(\"example.txt\", \"r\") as file:\n",
        "        content = file.read()\n",
        "        print(content)\n",
        "except FileNotFoundError:\n",
        "    print(\"Error: The file 'example.txt' was not found.\")\n",
        "except PermissionError:\n",
        "    print(\"Error: we do not have permission to open 'example.txt'.\")\n",
        "except Exception as e:\n",
        "    # Catch all other exceptions\n",
        "    print(f\"An unexpected error occurred: {e}\")\n"
      ],
      "metadata": {
        "colab": {
          "base_uri": "https://localhost:8080/"
        },
        "id": "ssypDQXJARxh",
        "outputId": "23dfdabc-d92c-4b97-c0d0-74420e2084bc"
      },
      "execution_count": 13,
      "outputs": [
        {
          "output_type": "stream",
          "name": "stdout",
          "text": [
            "Hello, this is a test string!\n"
          ]
        }
      ]
    },
    {
      "cell_type": "markdown",
      "source": [
        "**9. How can you read a file line by line and store its content in a list in Python?**"
      ],
      "metadata": {
        "id": "YI3Bw5VcAWqu"
      }
    },
    {
      "cell_type": "code",
      "source": [
        "# Open the file for reading\n",
        "with open(\"example.txt\", \"r\") as file:\n",
        "    # Read all lines into a list\n",
        "    lines = file.readlines()\n",
        "\n",
        "# Remove newline characters and store in a new list\n",
        "lines = [line.strip() for line in lines]\n",
        "\n",
        "# Print the list of lines\n",
        "print(lines)\n"
      ],
      "metadata": {
        "colab": {
          "base_uri": "https://localhost:8080/"
        },
        "id": "y1T2s3tlAq7a",
        "outputId": "4083356b-63bd-4c21-e2f8-86678c8ba95e"
      },
      "execution_count": 14,
      "outputs": [
        {
          "output_type": "stream",
          "name": "stdout",
          "text": [
            "['Hello, this is a test string!']\n"
          ]
        }
      ]
    },
    {
      "cell_type": "markdown",
      "source": [
        "**10. How can you append data to an existing file in Python?**"
      ],
      "metadata": {
        "id": "YX4x3ewnBICi"
      }
    },
    {
      "cell_type": "code",
      "source": [
        "# Data to be appended\n",
        "new_data = \"This is the new data that will be appended to the file.\\n\"\n",
        "\n",
        "# Open the file in append mode\n",
        "with open(\"example.txt\", \"a\") as file:\n",
        "    file.write(new_data)\n",
        "\n",
        "print(\"Data has been appended successfully.\")\n"
      ],
      "metadata": {
        "colab": {
          "base_uri": "https://localhost:8080/"
        },
        "id": "XsZ8WU7kBPAC",
        "outputId": "3603a0a9-6eec-4f98-b56b-5d245129bdbc"
      },
      "execution_count": 16,
      "outputs": [
        {
          "output_type": "stream",
          "name": "stdout",
          "text": [
            "Data has been appended successfully.\n"
          ]
        }
      ]
    },
    {
      "cell_type": "markdown",
      "source": [
        "**11.Write a Python program that uses a try-except block to handle an error when attempting to access a dictionary key that doesn't exist.**"
      ],
      "metadata": {
        "id": "KaRVkvyOB_iZ"
      }
    },
    {
      "cell_type": "code",
      "source": [
        "# Sample dictionary\n",
        "my_dict = {\"name\": \"Alice\", \"age\": 25, \"city\": \"New York\"}\n",
        "\n",
        "# Key to access\n",
        "key = \"email\"\n",
        "\n",
        "try:\n",
        "    # Try to access the value for the key\n",
        "    value = my_dict[key]\n",
        "    print(f\"The value for '{key}' is: {value}\")\n",
        "except KeyError:\n",
        "    # Handle the case where the key does not exist\n",
        "    print(f\"Error: The key '{key}' does not exist in the dictionary.\")\n"
      ],
      "metadata": {
        "colab": {
          "base_uri": "https://localhost:8080/"
        },
        "id": "Vxs7mddJCVnG",
        "outputId": "ee5dcfa2-02cf-43c4-f9aa-acc73e939e94"
      },
      "execution_count": 17,
      "outputs": [
        {
          "output_type": "stream",
          "name": "stdout",
          "text": [
            "Error: The key 'email' does not exist in the dictionary.\n"
          ]
        }
      ]
    },
    {
      "cell_type": "markdown",
      "source": [
        "**12. Write a program that demonstrates using multiple except blocks to handle different types of exceptions.**"
      ],
      "metadata": {
        "id": "Q6DPsl18Chbu"
      }
    },
    {
      "cell_type": "code",
      "source": [
        "try:\n",
        "    # Try different operations that could cause exceptions\n",
        "    x = int(input(\"Enter a number: \"))  # May raise ValueError if input is not a number\n",
        "    y = int(input(\"Enter another number: \"))  # May raise ValueError if input is not a number\n",
        "    result = x / y  # May raise ZeroDivisionError if y is 0\n",
        "    print(f\"The result of {x} divided by {y} is: {result}\")\n",
        "\n",
        "except ValueError:\n",
        "    print(\"Error: Invalid input! Please enter a valid integer.\")\n",
        "\n",
        "except ZeroDivisionError:\n",
        "    print(\"Error: Division by zero is not allowed.\")\n",
        "\n",
        "except Exception as e:\n",
        "    print(f\"An unexpected error occurred: {e}\")"
      ],
      "metadata": {
        "colab": {
          "base_uri": "https://localhost:8080/"
        },
        "id": "6zmx0Ym_C5OC",
        "outputId": "3d61aa09-04c0-470d-b381-60ca120041a2"
      },
      "execution_count": 19,
      "outputs": [
        {
          "output_type": "stream",
          "name": "stdout",
          "text": [
            "Enter a number: 30\n",
            "Enter another number: 5\n",
            "The result of 30 divided by 5 is: 6.0\n"
          ]
        }
      ]
    },
    {
      "cell_type": "markdown",
      "source": [
        "**13. How would you check if a file exists before attempting to read it in Python?**"
      ],
      "metadata": {
        "id": "dtKqAN3DDDyC"
      }
    },
    {
      "cell_type": "code",
      "source": [
        "from pathlib import Path\n",
        "\n",
        "file_path = Path(\"example.txt\")\n",
        "\n",
        "# Check if the file exists\n",
        "if file_path.exists():\n",
        "    with open(file_path, \"r\") as file:\n",
        "        content = file.read()\n",
        "        print(content)\n",
        "else:\n",
        "    print(f\"The file '{file_path}' does not exist.\")\n"
      ],
      "metadata": {
        "colab": {
          "base_uri": "https://localhost:8080/"
        },
        "id": "j4MRaP0qDJKl",
        "outputId": "a0d95d4c-af2b-4151-990c-7e864a7bede1"
      },
      "execution_count": 20,
      "outputs": [
        {
          "output_type": "stream",
          "name": "stdout",
          "text": [
            "Hello, this is a test string!This is the new data that will be appended to the file.\n",
            "\n"
          ]
        }
      ]
    },
    {
      "cell_type": "markdown",
      "source": [
        "**14. Write a program that uses the logging module to log both informational and error messages.**"
      ],
      "metadata": {
        "id": "GHMIJ9-PDe-g"
      }
    },
    {
      "cell_type": "code",
      "source": [
        "import logging\n",
        "\n",
        "# Configure logging to log messages to both console and file\n",
        "logging.basicConfig(\n",
        "    level=logging.DEBUG,  # Log all messages with level DEBUG and above\n",
        "    format='%(asctime)s - %(levelname)s - %(message)s',  # Log format\n",
        "    handlers=[\n",
        "        logging.StreamHandler(),  # Output logs to console\n",
        "        logging.FileHandler(\"app_log.txt\")  # Output logs to a file\n",
        "    ]\n",
        ")\n",
        "\n",
        "# Log an informational message\n",
        "logging.info(\"This is an informational message.\")\n",
        "\n",
        "# Log a warning message\n",
        "logging.warning(\"This is a warning message.\")\n",
        "\n",
        "# Log an error message\n",
        "try:\n",
        "    x = 10 / 0  # This will raise a ZeroDivisionError\n",
        "except ZeroDivisionError as e:\n",
        "    logging.error(f\"Error occurred: {e}\")\n",
        "\n",
        "# Log a critical message\n",
        "logging.critical(\"This is a critical message.\")\n"
      ],
      "metadata": {
        "colab": {
          "base_uri": "https://localhost:8080/"
        },
        "id": "fHr14tSiDk0d",
        "outputId": "6d499516-25df-45df-bdec-704c1866b041"
      },
      "execution_count": 21,
      "outputs": [
        {
          "output_type": "stream",
          "name": "stderr",
          "text": [
            "WARNING:root:This is a warning message.\n",
            "ERROR:root:Error occurred: division by zero\n",
            "CRITICAL:root:This is a critical message.\n"
          ]
        }
      ]
    },
    {
      "cell_type": "markdown",
      "source": [
        "**15. Write a Python program that prints the content of a file and handles the case when the file is empty.**"
      ],
      "metadata": {
        "id": "Edm18Pa0D9vn"
      }
    },
    {
      "cell_type": "code",
      "source": [
        "try:\n",
        "    # Open the file in read mode\n",
        "    with open(\"example.txt\", \"r\") as file:\n",
        "        content = file.read()\n",
        "\n",
        "        # Check if the file is empty\n",
        "        if not content:\n",
        "            print(\"The file is empty.\")\n",
        "        else:\n",
        "            print(\"Content of the file:\")\n",
        "            print(content)\n",
        "\n",
        "except FileNotFoundError:\n",
        "    print(\"Error: The file 'example.txt' does not exist.\")\n",
        "except Exception as e:\n",
        "    print(f\"An unexpected error occurred: {e}\")\n"
      ],
      "metadata": {
        "colab": {
          "base_uri": "https://localhost:8080/"
        },
        "id": "b6_ZVANrEC8d",
        "outputId": "7fcee551-802c-4dc2-c239-ec8df678500e"
      },
      "execution_count": 22,
      "outputs": [
        {
          "output_type": "stream",
          "name": "stdout",
          "text": [
            "Content of the file:\n",
            "Hello, this is a test string!This is the new data that will be appended to the file.\n",
            "\n"
          ]
        }
      ]
    },
    {
      "cell_type": "markdown",
      "source": [
        "**16. Demonstrate how to use memory profiling to check the memory usage of a small program.**"
      ],
      "metadata": {
        "id": "2eBqR2mOEOd_"
      }
    },
    {
      "cell_type": "code",
      "source": [
        "from memory_profiler import profile\n",
        "\n",
        "# Decorate the function to profile its memory usage\n",
        "@profile\n",
        "def my_program():\n",
        "    a = [i for i in range(1000000)]  # Create a large list\n",
        "    b = [i * 2 for i in a]  # Create another large list based on the first one\n",
        "    c = sum(b)  # Calculate the sum of the list 'b'\n",
        "    print(f\"Sum of the list: {c}\")\n",
        "\n",
        "if __name__ == \"__main__\":\n",
        "    my_program()\n"
      ],
      "metadata": {
        "id": "W3_YvtrwGeYk"
      },
      "execution_count": null,
      "outputs": []
    },
    {
      "cell_type": "markdown",
      "source": [
        "**17. Write a Python program to create and write a list of numbers to a file, one number per line.**\n"
      ],
      "metadata": {
        "id": "dcf3uUDPGluY"
      }
    },
    {
      "cell_type": "code",
      "source": [
        "# List of numbers to write to the file\n",
        "numbers = [1, 2, 3, 4, 5, 6, 7, 8, 9, 10]\n",
        "\n",
        "# Open the file in write mode\n",
        "with open(\"numbers.txt\", \"w\") as file:\n",
        "    # Write each number on a new line\n",
        "    for number in numbers:\n",
        "        file.write(f\"{number}\\n\")\n",
        "\n",
        "print(\"Numbers have been written to the file successfully.\")\n"
      ],
      "metadata": {
        "colab": {
          "base_uri": "https://localhost:8080/"
        },
        "id": "QTN0AuUNGuIM",
        "outputId": "4a8ffe6a-6a88-4abb-e0ba-13b42e9e57ef"
      },
      "execution_count": 28,
      "outputs": [
        {
          "output_type": "stream",
          "name": "stdout",
          "text": [
            "Numbers have been written to the file successfully.\n"
          ]
        }
      ]
    },
    {
      "cell_type": "markdown",
      "source": [
        "**18. How would you implement a basic logging setup that logs to a file with rotation after 1MB.**\n"
      ],
      "metadata": {
        "id": "e6DmtWizG9de"
      }
    },
    {
      "cell_type": "code",
      "source": [
        "import logging\n",
        "from logging.handlers import RotatingFileHandler\n",
        "\n",
        "# Create a logger\n",
        "logger = logging.getLogger(\"MyLogger\")\n",
        "\n",
        "# Set the logging level (DEBUG, INFO, etc.)\n",
        "logger.setLevel(logging.DEBUG)\n",
        "\n",
        "# Create a rotating file handler that logs to 'app.log' and rotates after 1MB\n",
        "log_handler = RotatingFileHandler(\"app.log\", maxBytes=1 * 1024 * 1024, backupCount=3)\n",
        "\n",
        "# Create a log format\n",
        "formatter = logging.Formatter('%(asctime)s - %(levelname)s - %(message)s')\n",
        "log_handler.setFormatter(formatter)\n",
        "\n",
        "# Add the handler to the logger\n",
        "logger.addHandler(log_handler)\n",
        "\n",
        "# Example log messages\n",
        "logger.debug(\"This is a debug message.\")\n",
        "logger.info(\"This is an info message.\")\n",
        "logger.warning(\"This is a warning message.\")\n",
        "logger.error(\"This is an error message.\")\n",
        "logger.critical(\"This is a critical message.\")\n",
        "\n",
        "print(\"Logging setup complete. Check 'app.log' for log entries.\")\n"
      ],
      "metadata": {
        "colab": {
          "base_uri": "https://localhost:8080/"
        },
        "id": "syFo8_cdHI1c",
        "outputId": "1f009cb6-39fc-48cf-e894-879c1385db66"
      },
      "execution_count": 29,
      "outputs": [
        {
          "output_type": "stream",
          "name": "stderr",
          "text": [
            "DEBUG:MyLogger:This is a debug message.\n",
            "INFO:MyLogger:This is an info message.\n",
            "WARNING:MyLogger:This is a warning message.\n",
            "ERROR:MyLogger:This is an error message.\n",
            "CRITICAL:MyLogger:This is a critical message.\n"
          ]
        },
        {
          "output_type": "stream",
          "name": "stdout",
          "text": [
            "Logging setup complete. Check 'app.log' for log entries.\n"
          ]
        }
      ]
    },
    {
      "cell_type": "markdown",
      "source": [
        "**19. Write a program that handles both IndexError and KeyError using a try-except block.**"
      ],
      "metadata": {
        "id": "apkxN4htHiVn"
      }
    },
    {
      "cell_type": "code",
      "source": [
        "# Sample data\n",
        "my_list = [1, 2, 3, 4]\n",
        "my_dict = {\"a\": 10, \"b\": 20}\n",
        "\n",
        "try:\n",
        "    # Try accessing an index that might raise IndexError\n",
        "    print(my_list[5])  # This will raise IndexError\n",
        "\n",
        "    # Try accessing a key that might raise KeyError\n",
        "    print(my_dict[\"c\"])  # This will raise KeyError\n",
        "\n",
        "except IndexError:\n",
        "    print(\"IndexError: The index is out of range!\")\n",
        "\n",
        "except KeyError:\n",
        "    print(\"KeyError: The key does not exist in the dictionary!\")\n"
      ],
      "metadata": {
        "colab": {
          "base_uri": "https://localhost:8080/"
        },
        "id": "yUmCGJRfHpBe",
        "outputId": "8754489b-7279-4947-f5f9-683b6f7f2dab"
      },
      "execution_count": 30,
      "outputs": [
        {
          "output_type": "stream",
          "name": "stdout",
          "text": [
            "IndexError: The index is out of range!\n"
          ]
        }
      ]
    },
    {
      "cell_type": "markdown",
      "source": [
        "**20. How would you open a file and read its contents using a context manager in Python?**"
      ],
      "metadata": {
        "id": "StcDDSdfH6sG"
      }
    },
    {
      "cell_type": "code",
      "source": [
        "# Using a context manager to open and read a file\n",
        "file_path = \"example.txt\"\n",
        "\n",
        "with open(file_path, \"r\") as file:  # Open the file in read mode\n",
        "    content = file.read()  # Read the entire content of the file\n",
        "    print(content)  # Print the content of the file\n"
      ],
      "metadata": {
        "colab": {
          "base_uri": "https://localhost:8080/"
        },
        "id": "kJgux088IAJY",
        "outputId": "4882dc6b-b693-4a77-adc9-92b2f45b8fa9"
      },
      "execution_count": 31,
      "outputs": [
        {
          "output_type": "stream",
          "name": "stdout",
          "text": [
            "Hello, this is a test string!This is the new data that will be appended to the file.\n",
            "\n"
          ]
        }
      ]
    },
    {
      "cell_type": "markdown",
      "source": [
        "**21. Write a Python program that reads a file and prints the number of occurrences of a specific word.**"
      ],
      "metadata": {
        "id": "MIODz__5IKST"
      }
    },
    {
      "cell_type": "code",
      "source": [
        "def count_word_occurrences(file_path, target_word):\n",
        "    try:\n",
        "        # Open the file in read mode\n",
        "        with open(file_path, \"r\") as file:\n",
        "            content = file.read()  # Read the entire content of the file\n",
        "            word_count = content.lower().split().count(target_word.lower())  # Convert to lowercase and count occurrences\n",
        "        return word_count\n",
        "    except FileNotFoundError:\n",
        "        print(f\"Error: The file '{file_path}' does not exist.\")\n",
        "        return 0\n",
        "    except Exception as e:\n",
        "        print(f\"An unexpected error occurred: {e}\")\n",
        "        return 0\n",
        "\n",
        "# Example usage\n",
        "file_path = \"example.txt\"  # The file to read from\n",
        "target_word = input(\"Enter the word to search for: \")  # Word to search for\n",
        "word_count = count_word_occurrences(file_path, target_word)\n",
        "\n",
        "print(f\"The word '{target_word}' occurs {word_count} times in the file '{file_path}'.\")\n"
      ],
      "metadata": {
        "colab": {
          "base_uri": "https://localhost:8080/"
        },
        "id": "4yBrRdMEIPms",
        "outputId": "d38b9558-fcd2-453d-a299-7f590a195669"
      },
      "execution_count": 33,
      "outputs": [
        {
          "output_type": "stream",
          "name": "stdout",
          "text": [
            "Enter the word to search for: this\n",
            "The word 'this' occurs 1 times in the file 'example.txt'.\n"
          ]
        }
      ]
    },
    {
      "cell_type": "markdown",
      "source": [
        "**22. How can you check if a file is empty before attempting to read its contents?**"
      ],
      "metadata": {
        "id": "5dEFxiePIbUf"
      }
    },
    {
      "cell_type": "code",
      "source": [
        "import os\n",
        "\n",
        "file_path = \"example.txt\"\n",
        "\n",
        "# Check if the file exists and if it's empty\n",
        "if os.path.exists(file_path) and os.path.getsize(file_path) == 0:\n",
        "    print(\"The file is empty.\")\n",
        "else:\n",
        "    with open(file_path, \"r\") as file:\n",
        "        content = file.read()\n",
        "        print(\"File content:\")\n",
        "        print(content)\n"
      ],
      "metadata": {
        "colab": {
          "base_uri": "https://localhost:8080/"
        },
        "id": "dqONOTV-Irpk",
        "outputId": "212558ac-16ed-4ea7-ad33-c925d3b5b25e"
      },
      "execution_count": 34,
      "outputs": [
        {
          "output_type": "stream",
          "name": "stdout",
          "text": [
            "File content:\n",
            "Hello, this is a test string!This is the new data that will be appended to the file.\n",
            "\n"
          ]
        }
      ]
    },
    {
      "cell_type": "markdown",
      "source": [
        "**23. Write a Python program that writes to a log file when an error occurs during file handling.**"
      ],
      "metadata": {
        "id": "fSKxzJlgI_q4"
      }
    },
    {
      "cell_type": "code",
      "source": [
        "import logging\n",
        "\n",
        "# Configure the logging\n",
        "logging.basicConfig(\n",
        "    filename='file_errors.log',       # Log file name\n",
        "    level=logging.ERROR,              # Only log errors and above\n",
        "    format='%(asctime)s - %(levelname)s - %(message)s'\n",
        ")\n",
        "\n",
        "def read_file(file_path):\n",
        "    try:\n",
        "        with open(file_path, \"r\") as file:\n",
        "            content = file.read()\n",
        "            print(\"File content:\")\n",
        "            print(content)\n",
        "    except FileNotFoundError as e:\n",
        "        logging.error(f\"FileNotFoundError: {e}\")\n",
        "        print(\"Error: The file does not exist.\")\n",
        "    except Exception as e:\n",
        "        logging.error(f\"An unexpected error occurred: {e}\")\n",
        "        print(\"An unexpected error occurred while reading the file.\")\n",
        "\n",
        "# Example usage\n",
        "read_file(\"non_existing_file.txt\")\n"
      ],
      "metadata": {
        "colab": {
          "base_uri": "https://localhost:8080/"
        },
        "id": "cRhDu6JGJIM7",
        "outputId": "6da5b9fd-a518-48ed-c012-0ea752b89ced"
      },
      "execution_count": 35,
      "outputs": [
        {
          "output_type": "stream",
          "name": "stderr",
          "text": [
            "ERROR:root:FileNotFoundError: [Errno 2] No such file or directory: 'non_existing_file.txt'\n"
          ]
        },
        {
          "output_type": "stream",
          "name": "stdout",
          "text": [
            "Error: The file does not exist.\n"
          ]
        }
      ]
    }
  ]
}